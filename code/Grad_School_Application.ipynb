{
 "cells": [
  {
   "cell_type": "markdown",
   "id": "aff16843-958d-433c-8768-ac583b3446b1",
   "metadata": {},
   "source": [
    "# University Application Letter Generator\n",
    "\n",
    "This project automates the generation of personalized application letters (Statement of Purpose) for graduate school applications. By leveraging Python, it efficiently generates Word and PDF files tailored to each university and program combination.\n",
    "\n",
    "*Author: Yuexi Cao*|\n",
    "*last update: Mar 06, 2025*"
   ]
  },
  {
   "cell_type": "code",
   "execution_count": 12,
   "id": "c39008ba",
   "metadata": {},
   "outputs": [],
   "source": [
    "import os\n",
    "from openpyxl import load_workbook\n",
    "from docxtpl import DocxTemplate\n",
    "from docx2pdf import convert\n",
    "\n",
    "# 设置路径\n",
    "BASE_DIR = r\"C:\\Users\\21517\\Documents\\2025spring\\人工智能与Python程序设计\\HW2\"\n",
    "DATA_DIR = os.path.join(BASE_DIR, \"data\")\n",
    "RESULT_DIR = os.path.join(BASE_DIR, \"result\")\n",
    "WORD_OUTPUT_DIR = os.path.join(RESULT_DIR, \"word_files\")\n",
    "PDF_OUTPUT_DIR = os.path.join(RESULT_DIR, \"pdf_files\")\n",
    "\n",
    "# 确保输出目录存在\n",
    "os.makedirs(WORD_OUTPUT_DIR, exist_ok=True)\n",
    "os.makedirs(PDF_OUTPUT_DIR, exist_ok=True)"
   ]
  },
  {
   "cell_type": "code",
   "execution_count": null,
   "id": "d0152190-007a-4e7f-8ecd-afd09bccd183",
   "metadata": {},
   "outputs": [],
   "source": [
    "# 加载 Excel 数据\n",
    "def load_application_list(file_path):\n",
    "    workbook = load_workbook(file_path)\n",
    "    sheet = workbook.active\n",
    "    universities = []\n",
    "    for row in sheet.iter_rows(min_row=2, values_only=True):  # 跳过表头\n",
    "        university_name = row[0]\n",
    "        programs = [row[1], row[2], row[3]]  # 获取 3 个专业\n",
    "        universities.append((university_name, programs))\n",
    "    return universities\n",
    "\n",
    "# 填充模板并生成 Word 文件\n",
    "def generate_word_files(template_path, universities):\n",
    "    for university, programs in universities:\n",
    "        for program in programs:\n",
    "            if not program:  # 如果专业为空，跳过\n",
    "                continue\n",
    "            context = {\n",
    "                \"program_name\": program,\n",
    "                \"university_name\": university\n",
    "            }\n",
    "            template = DocxTemplate(template_path)\n",
    "            output_file = f\"{university.replace(' ', '_')}_{program.replace(' ', '_')}.docx\"\n",
    "            output_path = os.path.join(WORD_OUTPUT_DIR, output_file)\n",
    "            template.render(context)\n",
    "            template.save(output_path)\n",
    "            print(f\"Generated Word file: {output_path}\")\n",
    "\n",
    "# 将 Word 文件转换为 PDF\n",
    "def convert_to_pdf():\n",
    "    for file_name in os.listdir(WORD_OUTPUT_DIR):\n",
    "        if file_name.endswith(\".docx\"):\n",
    "            word_path = os.path.join(WORD_OUTPUT_DIR, file_name)\n",
    "            pdf_path = os.path.join(PDF_OUTPUT_DIR, file_name.replace(\".docx\", \".pdf\"))\n",
    "            convert(word_path, pdf_path)\n",
    "            print(f\"Converted to PDF: {pdf_path}\")\n",
    "\n"
   ]
  },
  {
   "cell_type": "code",
   "execution_count": 14,
   "id": "658696b2",
   "metadata": {},
   "outputs": [
    {
     "name": "stdout",
     "output_type": "stream",
     "text": [
      "Generated Word file: C:\\Users\\21517\\Documents\\2025spring\\人工智能与Python程序设计\\HW2\\result\\word_files\\Harvard_University_MA_in_Economics.docx\n",
      "Generated Word file: C:\\Users\\21517\\Documents\\2025spring\\人工智能与Python程序设计\\HW2\\result\\word_files\\Harvard_University_MA_in_Statistics.docx\n",
      "Generated Word file: C:\\Users\\21517\\Documents\\2025spring\\人工智能与Python程序设计\\HW2\\result\\word_files\\Harvard_University_PhD_in_Data_Science.docx\n",
      "Generated Word file: C:\\Users\\21517\\Documents\\2025spring\\人工智能与Python程序设计\\HW2\\result\\word_files\\Massachusetts_Institute_of_Technology_(MIT)_MA_in_Economics.docx\n",
      "Generated Word file: C:\\Users\\21517\\Documents\\2025spring\\人工智能与Python程序设计\\HW2\\result\\word_files\\Massachusetts_Institute_of_Technology_(MIT)_PhD_in_Data_Science.docx\n",
      "Generated Word file: C:\\Users\\21517\\Documents\\2025spring\\人工智能与Python程序设计\\HW2\\result\\word_files\\Massachusetts_Institute_of_Technology_(MIT)_PhD_in_Statistics.docx\n",
      "Generated Word file: C:\\Users\\21517\\Documents\\2025spring\\人工智能与Python程序设计\\HW2\\result\\word_files\\Stanford_University_MA_in_Economics.docx\n",
      "Generated Word file: C:\\Users\\21517\\Documents\\2025spring\\人工智能与Python程序设计\\HW2\\result\\word_files\\Stanford_University_PhD_in_Data_Science.docx\n",
      "Generated Word file: C:\\Users\\21517\\Documents\\2025spring\\人工智能与Python程序设计\\HW2\\result\\word_files\\Stanford_University_MA_in_Statistics.docx\n",
      "Generated Word file: C:\\Users\\21517\\Documents\\2025spring\\人工智能与Python程序设计\\HW2\\result\\word_files\\University_of_Chicago_MA_in_Economics.docx\n",
      "Generated Word file: C:\\Users\\21517\\Documents\\2025spring\\人工智能与Python程序设计\\HW2\\result\\word_files\\University_of_Chicago_PhD_in_Data_Science.docx\n",
      "Generated Word file: C:\\Users\\21517\\Documents\\2025spring\\人工智能与Python程序设计\\HW2\\result\\word_files\\University_of_Chicago_MA_in_Finance.docx\n",
      "Generated Word file: C:\\Users\\21517\\Documents\\2025spring\\人工智能与Python程序设计\\HW2\\result\\word_files\\Princeton_University_MA_in_Economics.docx\n",
      "Generated Word file: C:\\Users\\21517\\Documents\\2025spring\\人工智能与Python程序设计\\HW2\\result\\word_files\\Princeton_University_PhD_in_Statistics.docx\n",
      "Generated Word file: C:\\Users\\21517\\Documents\\2025spring\\人工智能与Python程序设计\\HW2\\result\\word_files\\Princeton_University_MA_in_Finance.docx\n",
      "Generated Word file: C:\\Users\\21517\\Documents\\2025spring\\人工智能与Python程序设计\\HW2\\result\\word_files\\University_of_California,_Berkeley_MA_in_Economics.docx\n",
      "Generated Word file: C:\\Users\\21517\\Documents\\2025spring\\人工智能与Python程序设计\\HW2\\result\\word_files\\University_of_California,_Berkeley_PhD_in_Data_Science.docx\n",
      "Generated Word file: C:\\Users\\21517\\Documents\\2025spring\\人工智能与Python程序设计\\HW2\\result\\word_files\\University_of_California,_Berkeley_MA_in_Finance.docx\n",
      "Generated Word file: C:\\Users\\21517\\Documents\\2025spring\\人工智能与Python程序设计\\HW2\\result\\word_files\\Yale_University_MA_in_Economics.docx\n",
      "Generated Word file: C:\\Users\\21517\\Documents\\2025spring\\人工智能与Python程序设计\\HW2\\result\\word_files\\Yale_University_PhD_in_Statistics.docx\n",
      "Generated Word file: C:\\Users\\21517\\Documents\\2025spring\\人工智能与Python程序设计\\HW2\\result\\word_files\\Yale_University_PhD_in_Management.docx\n",
      "Generated Word file: C:\\Users\\21517\\Documents\\2025spring\\人工智能与Python程序设计\\HW2\\result\\word_files\\London_School_of_Economics_and_Political_Science_(LSE)_MA_in_Economics.docx\n",
      "Generated Word file: C:\\Users\\21517\\Documents\\2025spring\\人工智能与Python程序设计\\HW2\\result\\word_files\\London_School_of_Economics_and_Political_Science_(LSE)_MA_in_Finance.docx\n",
      "Generated Word file: C:\\Users\\21517\\Documents\\2025spring\\人工智能与Python程序设计\\HW2\\result\\word_files\\London_School_of_Economics_and_Political_Science_(LSE)_PhD_in_Management.docx\n",
      "Generated Word file: C:\\Users\\21517\\Documents\\2025spring\\人工智能与Python程序设计\\HW2\\result\\word_files\\Columbia_University_MA_in_Economics.docx\n",
      "Generated Word file: C:\\Users\\21517\\Documents\\2025spring\\人工智能与Python程序设计\\HW2\\result\\word_files\\Columbia_University_MA_in_Statistics.docx\n",
      "Generated Word file: C:\\Users\\21517\\Documents\\2025spring\\人工智能与Python程序设计\\HW2\\result\\word_files\\Columbia_University_PhD_in_Finance.docx\n",
      "Generated Word file: C:\\Users\\21517\\Documents\\2025spring\\人工智能与Python程序设计\\HW2\\result\\word_files\\University_of_California,_Los_Angeles_(UCLA)_MA_in_Economics.docx\n",
      "Generated Word file: C:\\Users\\21517\\Documents\\2025spring\\人工智能与Python程序设计\\HW2\\result\\word_files\\University_of_California,_Los_Angeles_(UCLA)_MA_in_Statistics.docx\n",
      "Generated Word file: C:\\Users\\21517\\Documents\\2025spring\\人工智能与Python程序设计\\HW2\\result\\word_files\\University_of_California,_Los_Angeles_(UCLA)_PhD_in_Management.docx\n",
      "Generated Word file: C:\\Users\\21517\\Documents\\2025spring\\人工智能与Python程序设计\\HW2\\result\\word_files\\University_of_Pennsylvania_MA_in_Economics.docx\n",
      "Generated Word file: C:\\Users\\21517\\Documents\\2025spring\\人工智能与Python程序设计\\HW2\\result\\word_files\\University_of_Pennsylvania_MA_in_Statistics.docx\n",
      "Generated Word file: C:\\Users\\21517\\Documents\\2025spring\\人工智能与Python程序设计\\HW2\\result\\word_files\\University_of_Pennsylvania_PhD_in_Data_Science.docx\n",
      "Generated Word file: C:\\Users\\21517\\Documents\\2025spring\\人工智能与Python程序设计\\HW2\\result\\word_files\\Northwestern_University_MA_in_Economics.docx\n",
      "Generated Word file: C:\\Users\\21517\\Documents\\2025spring\\人工智能与Python程序设计\\HW2\\result\\word_files\\Northwestern_University_MA_in_Statistics.docx\n",
      "Generated Word file: C:\\Users\\21517\\Documents\\2025spring\\人工智能与Python程序设计\\HW2\\result\\word_files\\Northwestern_University_PhD_in_Finance.docx\n",
      "Generated Word file: C:\\Users\\21517\\Documents\\2025spring\\人工智能与Python程序设计\\HW2\\result\\word_files\\Duke_University_MA_in_Economics.docx\n",
      "Generated Word file: C:\\Users\\21517\\Documents\\2025spring\\人工智能与Python程序设计\\HW2\\result\\word_files\\Duke_University_MA_in_Statistics.docx\n",
      "Generated Word file: C:\\Users\\21517\\Documents\\2025spring\\人工智能与Python程序设计\\HW2\\result\\word_files\\Duke_University_PhD_in_Management.docx\n",
      "Generated Word file: C:\\Users\\21517\\Documents\\2025spring\\人工智能与Python程序设计\\HW2\\result\\word_files\\University_of_Wisconsin-Madison_MA_in_Economics.docx\n",
      "Generated Word file: C:\\Users\\21517\\Documents\\2025spring\\人工智能与Python程序设计\\HW2\\result\\word_files\\University_of_Wisconsin-Madison_MA_in_Statistics.docx\n",
      "Generated Word file: C:\\Users\\21517\\Documents\\2025spring\\人工智能与Python程序设计\\HW2\\result\\word_files\\University_of_Wisconsin-Madison_PhD_in_Finance.docx\n",
      "Generated Word file: C:\\Users\\21517\\Documents\\2025spring\\人工智能与Python程序设计\\HW2\\result\\word_files\\University_of_California,_San_Diego_(UCSD)_MA_in_Economics.docx\n",
      "Generated Word file: C:\\Users\\21517\\Documents\\2025spring\\人工智能与Python程序设计\\HW2\\result\\word_files\\University_of_California,_San_Diego_(UCSD)_MA_in_Statistics.docx\n",
      "Generated Word file: C:\\Users\\21517\\Documents\\2025spring\\人工智能与Python程序设计\\HW2\\result\\word_files\\University_of_California,_San_Diego_(UCSD)_PhD_in_Data_Science.docx\n",
      "Generated Word file: C:\\Users\\21517\\Documents\\2025spring\\人工智能与Python程序设计\\HW2\\result\\word_files\\Cornell_University_MA_in_Economics.docx\n",
      "Generated Word file: C:\\Users\\21517\\Documents\\2025spring\\人工智能与Python程序设计\\HW2\\result\\word_files\\Cornell_University_PhD_in_Data_Science.docx\n",
      "Generated Word file: C:\\Users\\21517\\Documents\\2025spring\\人工智能与Python程序设计\\HW2\\result\\word_files\\Cornell_University_PhD_in_Management.docx\n",
      "Generated Word file: C:\\Users\\21517\\Documents\\2025spring\\人工智能与Python程序设计\\HW2\\result\\word_files\\University_of_British_Columbia_MA_in_Economics.docx\n",
      "Generated Word file: C:\\Users\\21517\\Documents\\2025spring\\人工智能与Python程序设计\\HW2\\result\\word_files\\University_of_British_Columbia_MA_in_Statistics.docx\n",
      "Generated Word file: C:\\Users\\21517\\Documents\\2025spring\\人工智能与Python程序设计\\HW2\\result\\word_files\\University_of_British_Columbia_PhD_in_Finance.docx\n",
      "Generated Word file: C:\\Users\\21517\\Documents\\2025spring\\人工智能与Python程序设计\\HW2\\result\\word_files\\University_of_Hong_Kong_MA_in_Economics.docx\n",
      "Generated Word file: C:\\Users\\21517\\Documents\\2025spring\\人工智能与Python程序设计\\HW2\\result\\word_files\\University_of_Hong_Kong_MA_in_Statistics.docx\n",
      "Generated Word file: C:\\Users\\21517\\Documents\\2025spring\\人工智能与Python程序设计\\HW2\\result\\word_files\\University_of_Hong_Kong_PhD_in_Finance.docx\n",
      "Generated Word file: C:\\Users\\21517\\Documents\\2025spring\\人工智能与Python程序设计\\HW2\\result\\word_files\\New_York_University_(NYU)_MA_in_Economics.docx\n",
      "Generated Word file: C:\\Users\\21517\\Documents\\2025spring\\人工智能与Python程序设计\\HW2\\result\\word_files\\New_York_University_(NYU)_MA_in_Statistics.docx\n",
      "Generated Word file: C:\\Users\\21517\\Documents\\2025spring\\人工智能与Python程序设计\\HW2\\result\\word_files\\New_York_University_(NYU)_PhD_in_Data_Science.docx\n",
      "Generated Word file: C:\\Users\\21517\\Documents\\2025spring\\人工智能与Python程序设计\\HW2\\result\\word_files\\University_of_California,_Santa_Barbara_(UCSB)_MA_in_Economics.docx\n",
      "Generated Word file: C:\\Users\\21517\\Documents\\2025spring\\人工智能与Python程序设计\\HW2\\result\\word_files\\University_of_California,_Santa_Barbara_(UCSB)_MA_in_Statistics.docx\n",
      "Generated Word file: C:\\Users\\21517\\Documents\\2025spring\\人工智能与Python程序设计\\HW2\\result\\word_files\\University_of_California,_Santa_Barbara_(UCSB)_PhD_in_Management.docx\n",
      "Generated Word file: C:\\Users\\21517\\Documents\\2025spring\\人工智能与Python程序设计\\HW2\\result\\word_files\\University_of_Toronto_MA_in_Economics.docx\n",
      "Generated Word file: C:\\Users\\21517\\Documents\\2025spring\\人工智能与Python程序设计\\HW2\\result\\word_files\\University_of_Toronto_MA_in_Statistics.docx\n",
      "Generated Word file: C:\\Users\\21517\\Documents\\2025spring\\人工智能与Python程序设计\\HW2\\result\\word_files\\University_of_Toronto_PhD_in_Finance.docx\n",
      "Generated Word file: C:\\Users\\21517\\Documents\\2025spring\\人工智能与Python程序设计\\HW2\\result\\word_files\\University_of_Oxford_MA_in_Economics.docx\n",
      "Generated Word file: C:\\Users\\21517\\Documents\\2025spring\\人工智能与Python程序设计\\HW2\\result\\word_files\\University_of_Oxford_PhD_in_Statistics.docx\n",
      "Generated Word file: C:\\Users\\21517\\Documents\\2025spring\\人工智能与Python程序设计\\HW2\\result\\word_files\\University_of_Oxford_PhD_in_Management.docx\n",
      "Generated Word file: C:\\Users\\21517\\Documents\\2025spring\\人工智能与Python程序设计\\HW2\\result\\word_files\\University_of_Cambridge_MA_in_Economics.docx\n",
      "Generated Word file: C:\\Users\\21517\\Documents\\2025spring\\人工智能与Python程序设计\\HW2\\result\\word_files\\University_of_Cambridge_PhD_in_Statistics.docx\n",
      "Generated Word file: C:\\Users\\21517\\Documents\\2025spring\\人工智能与Python程序设计\\HW2\\result\\word_files\\University_of_Cambridge_MA_in_Finance.docx\n",
      "Generated Word file: C:\\Users\\21517\\Documents\\2025spring\\人工智能与Python程序设计\\HW2\\result\\word_files\\National_University_of_Singapore_(NUS)_MA_in_Economics.docx\n",
      "Generated Word file: C:\\Users\\21517\\Documents\\2025spring\\人工智能与Python程序设计\\HW2\\result\\word_files\\National_University_of_Singapore_(NUS)_MA_in_Statistics.docx\n",
      "Generated Word file: C:\\Users\\21517\\Documents\\2025spring\\人工智能与Python程序设计\\HW2\\result\\word_files\\National_University_of_Singapore_(NUS)_PhD_in_Data_Science.docx\n",
      "Generated Word file: C:\\Users\\21517\\Documents\\2025spring\\人工智能与Python程序设计\\HW2\\result\\word_files\\Paris_School_of_Economics_MA_in_Economics.docx\n",
      "Generated Word file: C:\\Users\\21517\\Documents\\2025spring\\人工智能与Python程序设计\\HW2\\result\\word_files\\Paris_School_of_Economics_MA_in_Statistics.docx\n",
      "Generated Word file: C:\\Users\\21517\\Documents\\2025spring\\人工智能与Python程序设计\\HW2\\result\\word_files\\Paris_School_of_Economics_PhD_in_Management.docx\n",
      "Generated Word file: C:\\Users\\21517\\Documents\\2025spring\\人工智能与Python程序设计\\HW2\\result\\word_files\\London_Business_School_(LBS)_MA_in_Economics.docx\n",
      "Generated Word file: C:\\Users\\21517\\Documents\\2025spring\\人工智能与Python程序设计\\HW2\\result\\word_files\\London_Business_School_(LBS)_MA_in_Finance.docx\n",
      "Generated Word file: C:\\Users\\21517\\Documents\\2025spring\\人工智能与Python程序设计\\HW2\\result\\word_files\\London_Business_School_(LBS)_PhD_in_Management.docx\n",
      "Generated Word file: C:\\Users\\21517\\Documents\\2025spring\\人工智能与Python程序设计\\HW2\\result\\word_files\\University_of_California,_Davis_MA_in_Economics.docx\n",
      "Generated Word file: C:\\Users\\21517\\Documents\\2025spring\\人工智能与Python程序设计\\HW2\\result\\word_files\\University_of_California,_Davis_MA_in_Statistics.docx\n",
      "Generated Word file: C:\\Users\\21517\\Documents\\2025spring\\人工智能与Python程序设计\\HW2\\result\\word_files\\University_of_California,_Davis_PhD_in_Data_Science.docx\n",
      "Generated Word file: C:\\Users\\21517\\Documents\\2025spring\\人工智能与Python程序设计\\HW2\\result\\word_files\\Boston_University_MA_in_Economics.docx\n",
      "Generated Word file: C:\\Users\\21517\\Documents\\2025spring\\人工智能与Python程序设计\\HW2\\result\\word_files\\Boston_University_MA_in_Statistics.docx\n",
      "Generated Word file: C:\\Users\\21517\\Documents\\2025spring\\人工智能与Python程序设计\\HW2\\result\\word_files\\Boston_University_PhD_in_Data_Science.docx\n",
      "Generated Word file: C:\\Users\\21517\\Documents\\2025spring\\人工智能与Python程序设计\\HW2\\result\\word_files\\Università_Commerciale_Luigi_Bocconi_MA_in_Economics.docx\n",
      "Generated Word file: C:\\Users\\21517\\Documents\\2025spring\\人工智能与Python程序设计\\HW2\\result\\word_files\\Università_Commerciale_Luigi_Bocconi_PhD_in_Management.docx\n",
      "Generated Word file: C:\\Users\\21517\\Documents\\2025spring\\人工智能与Python程序设计\\HW2\\result\\word_files\\Università_Commerciale_Luigi_Bocconi_PhD_in_Finance.docx\n",
      "Generated Word file: C:\\Users\\21517\\Documents\\2025spring\\人工智能与Python程序设计\\HW2\\result\\word_files\\University_of_Tokyo_MA_in_Economics.docx\n",
      "Generated Word file: C:\\Users\\21517\\Documents\\2025spring\\人工智能与Python程序设计\\HW2\\result\\word_files\\University_of_Tokyo_MA_in_Statistics.docx\n",
      "Generated Word file: C:\\Users\\21517\\Documents\\2025spring\\人工智能与Python程序设计\\HW2\\result\\word_files\\University_of_Tokyo_PhD_in_Data_Science.docx\n"
     ]
    },
    {
     "data": {
      "application/vnd.jupyter.widget-view+json": {
       "model_id": "3e988da1d23b4d38843e1df929bc8dc0",
       "version_major": 2,
       "version_minor": 0
      },
      "text/plain": [
       "  0%|          | 0/1 [00:00<?, ?it/s]"
      ]
     },
     "metadata": {},
     "output_type": "display_data"
    },
    {
     "name": "stdout",
     "output_type": "stream",
     "text": [
      "Converted to PDF: C:\\Users\\21517\\Documents\\2025spring\\人工智能与Python程序设计\\HW2\\result\\pdf_files\\Boston_University_MA_in_Economics.pdf\n"
     ]
    },
    {
     "data": {
      "application/vnd.jupyter.widget-view+json": {
       "model_id": "6d7f3cb0623446f0a14078ccb85a0669",
       "version_major": 2,
       "version_minor": 0
      },
      "text/plain": [
       "  0%|          | 0/1 [00:00<?, ?it/s]"
      ]
     },
     "metadata": {},
     "output_type": "display_data"
    },
    {
     "name": "stdout",
     "output_type": "stream",
     "text": [
      "Converted to PDF: C:\\Users\\21517\\Documents\\2025spring\\人工智能与Python程序设计\\HW2\\result\\pdf_files\\Boston_University_MA_in_Statistics.pdf\n"
     ]
    },
    {
     "data": {
      "application/vnd.jupyter.widget-view+json": {
       "model_id": "37a28c9349624edab5acaed8e93a2645",
       "version_major": 2,
       "version_minor": 0
      },
      "text/plain": [
       "  0%|          | 0/1 [00:00<?, ?it/s]"
      ]
     },
     "metadata": {},
     "output_type": "display_data"
    },
    {
     "name": "stdout",
     "output_type": "stream",
     "text": [
      "Converted to PDF: C:\\Users\\21517\\Documents\\2025spring\\人工智能与Python程序设计\\HW2\\result\\pdf_files\\Boston_University_PhD_in_Data_Science.pdf\n"
     ]
    },
    {
     "data": {
      "application/vnd.jupyter.widget-view+json": {
       "model_id": "7ddcd4e1d2834af5b4fd66fb3b8b447d",
       "version_major": 2,
       "version_minor": 0
      },
      "text/plain": [
       "  0%|          | 0/1 [00:00<?, ?it/s]"
      ]
     },
     "metadata": {},
     "output_type": "display_data"
    },
    {
     "name": "stdout",
     "output_type": "stream",
     "text": [
      "Converted to PDF: C:\\Users\\21517\\Documents\\2025spring\\人工智能与Python程序设计\\HW2\\result\\pdf_files\\Columbia_University_MA_in_Economics.pdf\n"
     ]
    },
    {
     "data": {
      "application/vnd.jupyter.widget-view+json": {
       "model_id": "621c4c33ada5468c8493d106beb02f69",
       "version_major": 2,
       "version_minor": 0
      },
      "text/plain": [
       "  0%|          | 0/1 [00:00<?, ?it/s]"
      ]
     },
     "metadata": {},
     "output_type": "display_data"
    },
    {
     "name": "stdout",
     "output_type": "stream",
     "text": [
      "Converted to PDF: C:\\Users\\21517\\Documents\\2025spring\\人工智能与Python程序设计\\HW2\\result\\pdf_files\\Columbia_University_MA_in_Statistics.pdf\n"
     ]
    },
    {
     "data": {
      "application/vnd.jupyter.widget-view+json": {
       "model_id": "147b256d309549fa9c0b830ddd8dd661",
       "version_major": 2,
       "version_minor": 0
      },
      "text/plain": [
       "  0%|          | 0/1 [00:00<?, ?it/s]"
      ]
     },
     "metadata": {},
     "output_type": "display_data"
    },
    {
     "name": "stdout",
     "output_type": "stream",
     "text": [
      "Converted to PDF: C:\\Users\\21517\\Documents\\2025spring\\人工智能与Python程序设计\\HW2\\result\\pdf_files\\Columbia_University_PhD_in_Finance.pdf\n"
     ]
    },
    {
     "data": {
      "application/vnd.jupyter.widget-view+json": {
       "model_id": "706a47f51df7491783c22eb8da1d3fc3",
       "version_major": 2,
       "version_minor": 0
      },
      "text/plain": [
       "  0%|          | 0/1 [00:00<?, ?it/s]"
      ]
     },
     "metadata": {},
     "output_type": "display_data"
    },
    {
     "name": "stdout",
     "output_type": "stream",
     "text": [
      "Converted to PDF: C:\\Users\\21517\\Documents\\2025spring\\人工智能与Python程序设计\\HW2\\result\\pdf_files\\Cornell_University_MA_in_Economics.pdf\n"
     ]
    },
    {
     "data": {
      "application/vnd.jupyter.widget-view+json": {
       "model_id": "de8acaf9d1774f51bba006edc1ab9b6f",
       "version_major": 2,
       "version_minor": 0
      },
      "text/plain": [
       "  0%|          | 0/1 [00:00<?, ?it/s]"
      ]
     },
     "metadata": {},
     "output_type": "display_data"
    },
    {
     "name": "stdout",
     "output_type": "stream",
     "text": [
      "Converted to PDF: C:\\Users\\21517\\Documents\\2025spring\\人工智能与Python程序设计\\HW2\\result\\pdf_files\\Cornell_University_PhD_in_Data_Science.pdf\n"
     ]
    },
    {
     "data": {
      "application/vnd.jupyter.widget-view+json": {
       "model_id": "394bba602cda46b3bbaeee0ad550a3a6",
       "version_major": 2,
       "version_minor": 0
      },
      "text/plain": [
       "  0%|          | 0/1 [00:00<?, ?it/s]"
      ]
     },
     "metadata": {},
     "output_type": "display_data"
    },
    {
     "name": "stdout",
     "output_type": "stream",
     "text": [
      "Converted to PDF: C:\\Users\\21517\\Documents\\2025spring\\人工智能与Python程序设计\\HW2\\result\\pdf_files\\Cornell_University_PhD_in_Management.pdf\n"
     ]
    },
    {
     "data": {
      "application/vnd.jupyter.widget-view+json": {
       "model_id": "a1fb585e93194b0787b4006b192e055c",
       "version_major": 2,
       "version_minor": 0
      },
      "text/plain": [
       "  0%|          | 0/1 [00:00<?, ?it/s]"
      ]
     },
     "metadata": {},
     "output_type": "display_data"
    },
    {
     "name": "stdout",
     "output_type": "stream",
     "text": [
      "Converted to PDF: C:\\Users\\21517\\Documents\\2025spring\\人工智能与Python程序设计\\HW2\\result\\pdf_files\\Duke_University_MA_in_Economics.pdf\n"
     ]
    },
    {
     "data": {
      "application/vnd.jupyter.widget-view+json": {
       "model_id": "5247184caa6044309f4023d756adf54d",
       "version_major": 2,
       "version_minor": 0
      },
      "text/plain": [
       "  0%|          | 0/1 [00:00<?, ?it/s]"
      ]
     },
     "metadata": {},
     "output_type": "display_data"
    },
    {
     "name": "stdout",
     "output_type": "stream",
     "text": [
      "Converted to PDF: C:\\Users\\21517\\Documents\\2025spring\\人工智能与Python程序设计\\HW2\\result\\pdf_files\\Duke_University_MA_in_Statistics.pdf\n"
     ]
    },
    {
     "data": {
      "application/vnd.jupyter.widget-view+json": {
       "model_id": "be185863d983457b90a1833f141a40d8",
       "version_major": 2,
       "version_minor": 0
      },
      "text/plain": [
       "  0%|          | 0/1 [00:00<?, ?it/s]"
      ]
     },
     "metadata": {},
     "output_type": "display_data"
    },
    {
     "name": "stdout",
     "output_type": "stream",
     "text": [
      "Converted to PDF: C:\\Users\\21517\\Documents\\2025spring\\人工智能与Python程序设计\\HW2\\result\\pdf_files\\Duke_University_PhD_in_Management.pdf\n"
     ]
    },
    {
     "data": {
      "application/vnd.jupyter.widget-view+json": {
       "model_id": "da7e1844cd2142669b36a14fd66ca62f",
       "version_major": 2,
       "version_minor": 0
      },
      "text/plain": [
       "  0%|          | 0/1 [00:00<?, ?it/s]"
      ]
     },
     "metadata": {},
     "output_type": "display_data"
    },
    {
     "name": "stdout",
     "output_type": "stream",
     "text": [
      "Converted to PDF: C:\\Users\\21517\\Documents\\2025spring\\人工智能与Python程序设计\\HW2\\result\\pdf_files\\Harvard_University_MA_in_Economics.pdf\n"
     ]
    },
    {
     "data": {
      "application/vnd.jupyter.widget-view+json": {
       "model_id": "6b4b1b3349b74087997874df69c8b744",
       "version_major": 2,
       "version_minor": 0
      },
      "text/plain": [
       "  0%|          | 0/1 [00:00<?, ?it/s]"
      ]
     },
     "metadata": {},
     "output_type": "display_data"
    },
    {
     "name": "stdout",
     "output_type": "stream",
     "text": [
      "Converted to PDF: C:\\Users\\21517\\Documents\\2025spring\\人工智能与Python程序设计\\HW2\\result\\pdf_files\\Harvard_University_MA_in_Statistics.pdf\n"
     ]
    },
    {
     "data": {
      "application/vnd.jupyter.widget-view+json": {
       "model_id": "2003352b1cdd4d4eacfaaa4d446b27a3",
       "version_major": 2,
       "version_minor": 0
      },
      "text/plain": [
       "  0%|          | 0/1 [00:00<?, ?it/s]"
      ]
     },
     "metadata": {},
     "output_type": "display_data"
    },
    {
     "name": "stdout",
     "output_type": "stream",
     "text": [
      "Converted to PDF: C:\\Users\\21517\\Documents\\2025spring\\人工智能与Python程序设计\\HW2\\result\\pdf_files\\Harvard_University_PhD_in_Data_Science.pdf\n"
     ]
    },
    {
     "data": {
      "application/vnd.jupyter.widget-view+json": {
       "model_id": "fa47004238764f25b4f012b2456d32d0",
       "version_major": 2,
       "version_minor": 0
      },
      "text/plain": [
       "  0%|          | 0/1 [00:00<?, ?it/s]"
      ]
     },
     "metadata": {},
     "output_type": "display_data"
    },
    {
     "name": "stdout",
     "output_type": "stream",
     "text": [
      "Converted to PDF: C:\\Users\\21517\\Documents\\2025spring\\人工智能与Python程序设计\\HW2\\result\\pdf_files\\London_Business_School_(LBS)_MA_in_Economics.pdf\n"
     ]
    },
    {
     "data": {
      "application/vnd.jupyter.widget-view+json": {
       "model_id": "32380ab8db8e468f9942b7f0c85e201d",
       "version_major": 2,
       "version_minor": 0
      },
      "text/plain": [
       "  0%|          | 0/1 [00:00<?, ?it/s]"
      ]
     },
     "metadata": {},
     "output_type": "display_data"
    },
    {
     "name": "stdout",
     "output_type": "stream",
     "text": [
      "Converted to PDF: C:\\Users\\21517\\Documents\\2025spring\\人工智能与Python程序设计\\HW2\\result\\pdf_files\\London_Business_School_(LBS)_MA_in_Finance.pdf\n"
     ]
    },
    {
     "data": {
      "application/vnd.jupyter.widget-view+json": {
       "model_id": "7a60903081dd4910ad1f40a3bf0eca81",
       "version_major": 2,
       "version_minor": 0
      },
      "text/plain": [
       "  0%|          | 0/1 [00:00<?, ?it/s]"
      ]
     },
     "metadata": {},
     "output_type": "display_data"
    },
    {
     "name": "stdout",
     "output_type": "stream",
     "text": [
      "Converted to PDF: C:\\Users\\21517\\Documents\\2025spring\\人工智能与Python程序设计\\HW2\\result\\pdf_files\\London_Business_School_(LBS)_PhD_in_Management.pdf\n"
     ]
    },
    {
     "data": {
      "application/vnd.jupyter.widget-view+json": {
       "model_id": "59c4cf7fe24343faa22e2e0904aed188",
       "version_major": 2,
       "version_minor": 0
      },
      "text/plain": [
       "  0%|          | 0/1 [00:00<?, ?it/s]"
      ]
     },
     "metadata": {},
     "output_type": "display_data"
    },
    {
     "name": "stdout",
     "output_type": "stream",
     "text": [
      "Converted to PDF: C:\\Users\\21517\\Documents\\2025spring\\人工智能与Python程序设计\\HW2\\result\\pdf_files\\London_School_of_Economics_and_Political_Science_(LSE)_MA_in_Economics.pdf\n"
     ]
    },
    {
     "data": {
      "application/vnd.jupyter.widget-view+json": {
       "model_id": "969a9ca1bcaa4a12b8160c35ca3f76c5",
       "version_major": 2,
       "version_minor": 0
      },
      "text/plain": [
       "  0%|          | 0/1 [00:00<?, ?it/s]"
      ]
     },
     "metadata": {},
     "output_type": "display_data"
    },
    {
     "name": "stdout",
     "output_type": "stream",
     "text": [
      "Converted to PDF: C:\\Users\\21517\\Documents\\2025spring\\人工智能与Python程序设计\\HW2\\result\\pdf_files\\London_School_of_Economics_and_Political_Science_(LSE)_MA_in_Finance.pdf\n"
     ]
    },
    {
     "data": {
      "application/vnd.jupyter.widget-view+json": {
       "model_id": "8719663ffefc48fa853d1f20dffe06f1",
       "version_major": 2,
       "version_minor": 0
      },
      "text/plain": [
       "  0%|          | 0/1 [00:00<?, ?it/s]"
      ]
     },
     "metadata": {},
     "output_type": "display_data"
    },
    {
     "name": "stdout",
     "output_type": "stream",
     "text": [
      "Converted to PDF: C:\\Users\\21517\\Documents\\2025spring\\人工智能与Python程序设计\\HW2\\result\\pdf_files\\London_School_of_Economics_and_Political_Science_(LSE)_PhD_in_Management.pdf\n"
     ]
    },
    {
     "data": {
      "application/vnd.jupyter.widget-view+json": {
       "model_id": "fc349cf7e68d4045b6cf46fa688ecb72",
       "version_major": 2,
       "version_minor": 0
      },
      "text/plain": [
       "  0%|          | 0/1 [00:00<?, ?it/s]"
      ]
     },
     "metadata": {},
     "output_type": "display_data"
    },
    {
     "name": "stdout",
     "output_type": "stream",
     "text": [
      "Converted to PDF: C:\\Users\\21517\\Documents\\2025spring\\人工智能与Python程序设计\\HW2\\result\\pdf_files\\Massachusetts_Institute_of_Technology_(MIT)_MA_in_Economics.pdf\n"
     ]
    },
    {
     "data": {
      "application/vnd.jupyter.widget-view+json": {
       "model_id": "bd28fb13315a4b6284a4d8bd46d2c320",
       "version_major": 2,
       "version_minor": 0
      },
      "text/plain": [
       "  0%|          | 0/1 [00:00<?, ?it/s]"
      ]
     },
     "metadata": {},
     "output_type": "display_data"
    },
    {
     "name": "stdout",
     "output_type": "stream",
     "text": [
      "Converted to PDF: C:\\Users\\21517\\Documents\\2025spring\\人工智能与Python程序设计\\HW2\\result\\pdf_files\\Massachusetts_Institute_of_Technology_(MIT)_PhD_in_Data_Science.pdf\n"
     ]
    },
    {
     "data": {
      "application/vnd.jupyter.widget-view+json": {
       "model_id": "3261a429715d4cdea16945d3b298957f",
       "version_major": 2,
       "version_minor": 0
      },
      "text/plain": [
       "  0%|          | 0/1 [00:00<?, ?it/s]"
      ]
     },
     "metadata": {},
     "output_type": "display_data"
    },
    {
     "name": "stdout",
     "output_type": "stream",
     "text": [
      "Converted to PDF: C:\\Users\\21517\\Documents\\2025spring\\人工智能与Python程序设计\\HW2\\result\\pdf_files\\Massachusetts_Institute_of_Technology_(MIT)_PhD_in_Statistics.pdf\n"
     ]
    },
    {
     "data": {
      "application/vnd.jupyter.widget-view+json": {
       "model_id": "0302611dbb224f499ccc6b91b9435e7b",
       "version_major": 2,
       "version_minor": 0
      },
      "text/plain": [
       "  0%|          | 0/1 [00:00<?, ?it/s]"
      ]
     },
     "metadata": {},
     "output_type": "display_data"
    },
    {
     "name": "stdout",
     "output_type": "stream",
     "text": [
      "Converted to PDF: C:\\Users\\21517\\Documents\\2025spring\\人工智能与Python程序设计\\HW2\\result\\pdf_files\\National_University_of_Singapore_(NUS)_MA_in_Economics.pdf\n"
     ]
    },
    {
     "data": {
      "application/vnd.jupyter.widget-view+json": {
       "model_id": "8a3d29d44ced40a0857075eb5e221b52",
       "version_major": 2,
       "version_minor": 0
      },
      "text/plain": [
       "  0%|          | 0/1 [00:00<?, ?it/s]"
      ]
     },
     "metadata": {},
     "output_type": "display_data"
    },
    {
     "name": "stdout",
     "output_type": "stream",
     "text": [
      "Converted to PDF: C:\\Users\\21517\\Documents\\2025spring\\人工智能与Python程序设计\\HW2\\result\\pdf_files\\National_University_of_Singapore_(NUS)_MA_in_Statistics.pdf\n"
     ]
    },
    {
     "data": {
      "application/vnd.jupyter.widget-view+json": {
       "model_id": "7a0d57bab85b41d4b39cdb74d68e844f",
       "version_major": 2,
       "version_minor": 0
      },
      "text/plain": [
       "  0%|          | 0/1 [00:00<?, ?it/s]"
      ]
     },
     "metadata": {},
     "output_type": "display_data"
    },
    {
     "name": "stdout",
     "output_type": "stream",
     "text": [
      "Converted to PDF: C:\\Users\\21517\\Documents\\2025spring\\人工智能与Python程序设计\\HW2\\result\\pdf_files\\National_University_of_Singapore_(NUS)_PhD_in_Data_Science.pdf\n"
     ]
    },
    {
     "data": {
      "application/vnd.jupyter.widget-view+json": {
       "model_id": "6e99af8ed5cc47239b458e68ac4e445f",
       "version_major": 2,
       "version_minor": 0
      },
      "text/plain": [
       "  0%|          | 0/1 [00:00<?, ?it/s]"
      ]
     },
     "metadata": {},
     "output_type": "display_data"
    },
    {
     "name": "stdout",
     "output_type": "stream",
     "text": [
      "Converted to PDF: C:\\Users\\21517\\Documents\\2025spring\\人工智能与Python程序设计\\HW2\\result\\pdf_files\\New_York_University_(NYU)_MA_in_Economics.pdf\n"
     ]
    },
    {
     "data": {
      "application/vnd.jupyter.widget-view+json": {
       "model_id": "547496f566a54ef18d7ea1cbbdbc6244",
       "version_major": 2,
       "version_minor": 0
      },
      "text/plain": [
       "  0%|          | 0/1 [00:00<?, ?it/s]"
      ]
     },
     "metadata": {},
     "output_type": "display_data"
    },
    {
     "name": "stdout",
     "output_type": "stream",
     "text": [
      "Converted to PDF: C:\\Users\\21517\\Documents\\2025spring\\人工智能与Python程序设计\\HW2\\result\\pdf_files\\New_York_University_(NYU)_MA_in_Statistics.pdf\n"
     ]
    },
    {
     "data": {
      "application/vnd.jupyter.widget-view+json": {
       "model_id": "0ba76fffeb22427792cd870c03c9b148",
       "version_major": 2,
       "version_minor": 0
      },
      "text/plain": [
       "  0%|          | 0/1 [00:00<?, ?it/s]"
      ]
     },
     "metadata": {},
     "output_type": "display_data"
    },
    {
     "name": "stdout",
     "output_type": "stream",
     "text": [
      "Converted to PDF: C:\\Users\\21517\\Documents\\2025spring\\人工智能与Python程序设计\\HW2\\result\\pdf_files\\New_York_University_(NYU)_PhD_in_Data_Science.pdf\n"
     ]
    },
    {
     "data": {
      "application/vnd.jupyter.widget-view+json": {
       "model_id": "59b82e1c9a064caf9cec2a1c8d3c01d0",
       "version_major": 2,
       "version_minor": 0
      },
      "text/plain": [
       "  0%|          | 0/1 [00:00<?, ?it/s]"
      ]
     },
     "metadata": {},
     "output_type": "display_data"
    },
    {
     "name": "stdout",
     "output_type": "stream",
     "text": [
      "Converted to PDF: C:\\Users\\21517\\Documents\\2025spring\\人工智能与Python程序设计\\HW2\\result\\pdf_files\\Northwestern_University_MA_in_Economics.pdf\n"
     ]
    },
    {
     "data": {
      "application/vnd.jupyter.widget-view+json": {
       "model_id": "68f1655b23e14fdf83f9656c2aece45b",
       "version_major": 2,
       "version_minor": 0
      },
      "text/plain": [
       "  0%|          | 0/1 [00:00<?, ?it/s]"
      ]
     },
     "metadata": {},
     "output_type": "display_data"
    },
    {
     "name": "stdout",
     "output_type": "stream",
     "text": [
      "Converted to PDF: C:\\Users\\21517\\Documents\\2025spring\\人工智能与Python程序设计\\HW2\\result\\pdf_files\\Northwestern_University_MA_in_Statistics.pdf\n"
     ]
    },
    {
     "data": {
      "application/vnd.jupyter.widget-view+json": {
       "model_id": "04e9f99c7bab477d84466e18c0f826f7",
       "version_major": 2,
       "version_minor": 0
      },
      "text/plain": [
       "  0%|          | 0/1 [00:00<?, ?it/s]"
      ]
     },
     "metadata": {},
     "output_type": "display_data"
    },
    {
     "name": "stdout",
     "output_type": "stream",
     "text": [
      "Converted to PDF: C:\\Users\\21517\\Documents\\2025spring\\人工智能与Python程序设计\\HW2\\result\\pdf_files\\Northwestern_University_PhD_in_Finance.pdf\n"
     ]
    },
    {
     "data": {
      "application/vnd.jupyter.widget-view+json": {
       "model_id": "9462bfa7a8d34b05864ac1cd1e851541",
       "version_major": 2,
       "version_minor": 0
      },
      "text/plain": [
       "  0%|          | 0/1 [00:00<?, ?it/s]"
      ]
     },
     "metadata": {},
     "output_type": "display_data"
    },
    {
     "name": "stdout",
     "output_type": "stream",
     "text": [
      "Converted to PDF: C:\\Users\\21517\\Documents\\2025spring\\人工智能与Python程序设计\\HW2\\result\\pdf_files\\Paris_School_of_Economics_MA_in_Economics.pdf\n"
     ]
    },
    {
     "data": {
      "application/vnd.jupyter.widget-view+json": {
       "model_id": "5fcfcc4cb19d4279bde785489af98298",
       "version_major": 2,
       "version_minor": 0
      },
      "text/plain": [
       "  0%|          | 0/1 [00:00<?, ?it/s]"
      ]
     },
     "metadata": {},
     "output_type": "display_data"
    },
    {
     "name": "stdout",
     "output_type": "stream",
     "text": [
      "Converted to PDF: C:\\Users\\21517\\Documents\\2025spring\\人工智能与Python程序设计\\HW2\\result\\pdf_files\\Paris_School_of_Economics_MA_in_Statistics.pdf\n"
     ]
    },
    {
     "data": {
      "application/vnd.jupyter.widget-view+json": {
       "model_id": "ddc637d9e27b4738a8228521a374e6d7",
       "version_major": 2,
       "version_minor": 0
      },
      "text/plain": [
       "  0%|          | 0/1 [00:00<?, ?it/s]"
      ]
     },
     "metadata": {},
     "output_type": "display_data"
    },
    {
     "name": "stdout",
     "output_type": "stream",
     "text": [
      "Converted to PDF: C:\\Users\\21517\\Documents\\2025spring\\人工智能与Python程序设计\\HW2\\result\\pdf_files\\Paris_School_of_Economics_PhD_in_Management.pdf\n"
     ]
    },
    {
     "data": {
      "application/vnd.jupyter.widget-view+json": {
       "model_id": "35616b47a7584b5fbb413bce412e6cc9",
       "version_major": 2,
       "version_minor": 0
      },
      "text/plain": [
       "  0%|          | 0/1 [00:00<?, ?it/s]"
      ]
     },
     "metadata": {},
     "output_type": "display_data"
    },
    {
     "name": "stdout",
     "output_type": "stream",
     "text": [
      "Converted to PDF: C:\\Users\\21517\\Documents\\2025spring\\人工智能与Python程序设计\\HW2\\result\\pdf_files\\Princeton_University_MA_in_Economics.pdf\n"
     ]
    },
    {
     "data": {
      "application/vnd.jupyter.widget-view+json": {
       "model_id": "fb70255f037e4ad39ef1bb80f86b38fe",
       "version_major": 2,
       "version_minor": 0
      },
      "text/plain": [
       "  0%|          | 0/1 [00:00<?, ?it/s]"
      ]
     },
     "metadata": {},
     "output_type": "display_data"
    },
    {
     "name": "stdout",
     "output_type": "stream",
     "text": [
      "Converted to PDF: C:\\Users\\21517\\Documents\\2025spring\\人工智能与Python程序设计\\HW2\\result\\pdf_files\\Princeton_University_MA_in_Finance.pdf\n"
     ]
    },
    {
     "data": {
      "application/vnd.jupyter.widget-view+json": {
       "model_id": "5a421cc0f9e24fa0b191775eea161f26",
       "version_major": 2,
       "version_minor": 0
      },
      "text/plain": [
       "  0%|          | 0/1 [00:00<?, ?it/s]"
      ]
     },
     "metadata": {},
     "output_type": "display_data"
    },
    {
     "name": "stdout",
     "output_type": "stream",
     "text": [
      "Converted to PDF: C:\\Users\\21517\\Documents\\2025spring\\人工智能与Python程序设计\\HW2\\result\\pdf_files\\Princeton_University_PhD_in_Statistics.pdf\n"
     ]
    },
    {
     "data": {
      "application/vnd.jupyter.widget-view+json": {
       "model_id": "79a0a3f1d9b4421fb829cb757859e173",
       "version_major": 2,
       "version_minor": 0
      },
      "text/plain": [
       "  0%|          | 0/1 [00:00<?, ?it/s]"
      ]
     },
     "metadata": {},
     "output_type": "display_data"
    },
    {
     "name": "stdout",
     "output_type": "stream",
     "text": [
      "Converted to PDF: C:\\Users\\21517\\Documents\\2025spring\\人工智能与Python程序设计\\HW2\\result\\pdf_files\\Stanford_University_MA_in_Economics.pdf\n"
     ]
    },
    {
     "data": {
      "application/vnd.jupyter.widget-view+json": {
       "model_id": "c82fb35ad5764d9387f9539459ad8168",
       "version_major": 2,
       "version_minor": 0
      },
      "text/plain": [
       "  0%|          | 0/1 [00:00<?, ?it/s]"
      ]
     },
     "metadata": {},
     "output_type": "display_data"
    },
    {
     "name": "stdout",
     "output_type": "stream",
     "text": [
      "Converted to PDF: C:\\Users\\21517\\Documents\\2025spring\\人工智能与Python程序设计\\HW2\\result\\pdf_files\\Stanford_University_MA_in_Statistics.pdf\n"
     ]
    },
    {
     "data": {
      "application/vnd.jupyter.widget-view+json": {
       "model_id": "3bd43773cfe647f180492cc30143e610",
       "version_major": 2,
       "version_minor": 0
      },
      "text/plain": [
       "  0%|          | 0/1 [00:00<?, ?it/s]"
      ]
     },
     "metadata": {},
     "output_type": "display_data"
    },
    {
     "name": "stdout",
     "output_type": "stream",
     "text": [
      "Converted to PDF: C:\\Users\\21517\\Documents\\2025spring\\人工智能与Python程序设计\\HW2\\result\\pdf_files\\Stanford_University_PhD_in_Data_Science.pdf\n"
     ]
    },
    {
     "data": {
      "application/vnd.jupyter.widget-view+json": {
       "model_id": "d377e1e4861143ada26a0ab445215a2b",
       "version_major": 2,
       "version_minor": 0
      },
      "text/plain": [
       "  0%|          | 0/1 [00:00<?, ?it/s]"
      ]
     },
     "metadata": {},
     "output_type": "display_data"
    },
    {
     "name": "stdout",
     "output_type": "stream",
     "text": [
      "Converted to PDF: C:\\Users\\21517\\Documents\\2025spring\\人工智能与Python程序设计\\HW2\\result\\pdf_files\\University_of_British_Columbia_MA_in_Economics.pdf\n"
     ]
    },
    {
     "data": {
      "application/vnd.jupyter.widget-view+json": {
       "model_id": "45ba55b33f8e44eb916ce15605e91769",
       "version_major": 2,
       "version_minor": 0
      },
      "text/plain": [
       "  0%|          | 0/1 [00:00<?, ?it/s]"
      ]
     },
     "metadata": {},
     "output_type": "display_data"
    },
    {
     "name": "stdout",
     "output_type": "stream",
     "text": [
      "Converted to PDF: C:\\Users\\21517\\Documents\\2025spring\\人工智能与Python程序设计\\HW2\\result\\pdf_files\\University_of_British_Columbia_MA_in_Statistics.pdf\n"
     ]
    },
    {
     "data": {
      "application/vnd.jupyter.widget-view+json": {
       "model_id": "1bc65eda6eb6468390fafcafbd839425",
       "version_major": 2,
       "version_minor": 0
      },
      "text/plain": [
       "  0%|          | 0/1 [00:00<?, ?it/s]"
      ]
     },
     "metadata": {},
     "output_type": "display_data"
    },
    {
     "name": "stdout",
     "output_type": "stream",
     "text": [
      "Converted to PDF: C:\\Users\\21517\\Documents\\2025spring\\人工智能与Python程序设计\\HW2\\result\\pdf_files\\University_of_British_Columbia_PhD_in_Finance.pdf\n"
     ]
    },
    {
     "data": {
      "application/vnd.jupyter.widget-view+json": {
       "model_id": "b15038549a2347f98a0765f8d121a7e3",
       "version_major": 2,
       "version_minor": 0
      },
      "text/plain": [
       "  0%|          | 0/1 [00:00<?, ?it/s]"
      ]
     },
     "metadata": {},
     "output_type": "display_data"
    },
    {
     "name": "stdout",
     "output_type": "stream",
     "text": [
      "Converted to PDF: C:\\Users\\21517\\Documents\\2025spring\\人工智能与Python程序设计\\HW2\\result\\pdf_files\\University_of_California,_Berkeley_MA_in_Economics.pdf\n"
     ]
    },
    {
     "data": {
      "application/vnd.jupyter.widget-view+json": {
       "model_id": "bb87ad461bae4e37ae757b53aa267d23",
       "version_major": 2,
       "version_minor": 0
      },
      "text/plain": [
       "  0%|          | 0/1 [00:00<?, ?it/s]"
      ]
     },
     "metadata": {},
     "output_type": "display_data"
    },
    {
     "name": "stdout",
     "output_type": "stream",
     "text": [
      "Converted to PDF: C:\\Users\\21517\\Documents\\2025spring\\人工智能与Python程序设计\\HW2\\result\\pdf_files\\University_of_California,_Berkeley_MA_in_Finance.pdf\n"
     ]
    },
    {
     "data": {
      "application/vnd.jupyter.widget-view+json": {
       "model_id": "5b660896b5344677877a6922f8385a41",
       "version_major": 2,
       "version_minor": 0
      },
      "text/plain": [
       "  0%|          | 0/1 [00:00<?, ?it/s]"
      ]
     },
     "metadata": {},
     "output_type": "display_data"
    },
    {
     "name": "stdout",
     "output_type": "stream",
     "text": [
      "Converted to PDF: C:\\Users\\21517\\Documents\\2025spring\\人工智能与Python程序设计\\HW2\\result\\pdf_files\\University_of_California,_Berkeley_PhD_in_Data_Science.pdf\n"
     ]
    },
    {
     "data": {
      "application/vnd.jupyter.widget-view+json": {
       "model_id": "0a0536d2f5864ef5b174c4e0bab33d1d",
       "version_major": 2,
       "version_minor": 0
      },
      "text/plain": [
       "  0%|          | 0/1 [00:00<?, ?it/s]"
      ]
     },
     "metadata": {},
     "output_type": "display_data"
    },
    {
     "name": "stdout",
     "output_type": "stream",
     "text": [
      "Converted to PDF: C:\\Users\\21517\\Documents\\2025spring\\人工智能与Python程序设计\\HW2\\result\\pdf_files\\University_of_California,_Davis_MA_in_Economics.pdf\n"
     ]
    },
    {
     "data": {
      "application/vnd.jupyter.widget-view+json": {
       "model_id": "86bbf6dd028b412b9f85c435d18552e0",
       "version_major": 2,
       "version_minor": 0
      },
      "text/plain": [
       "  0%|          | 0/1 [00:00<?, ?it/s]"
      ]
     },
     "metadata": {},
     "output_type": "display_data"
    },
    {
     "name": "stdout",
     "output_type": "stream",
     "text": [
      "Converted to PDF: C:\\Users\\21517\\Documents\\2025spring\\人工智能与Python程序设计\\HW2\\result\\pdf_files\\University_of_California,_Davis_MA_in_Statistics.pdf\n"
     ]
    },
    {
     "data": {
      "application/vnd.jupyter.widget-view+json": {
       "model_id": "6f0c87f6acf9451f85ca719eda11981c",
       "version_major": 2,
       "version_minor": 0
      },
      "text/plain": [
       "  0%|          | 0/1 [00:00<?, ?it/s]"
      ]
     },
     "metadata": {},
     "output_type": "display_data"
    },
    {
     "name": "stdout",
     "output_type": "stream",
     "text": [
      "Converted to PDF: C:\\Users\\21517\\Documents\\2025spring\\人工智能与Python程序设计\\HW2\\result\\pdf_files\\University_of_California,_Davis_PhD_in_Data_Science.pdf\n"
     ]
    },
    {
     "data": {
      "application/vnd.jupyter.widget-view+json": {
       "model_id": "7959a50ecf3f44e7a9519b2099b5df30",
       "version_major": 2,
       "version_minor": 0
      },
      "text/plain": [
       "  0%|          | 0/1 [00:00<?, ?it/s]"
      ]
     },
     "metadata": {},
     "output_type": "display_data"
    },
    {
     "name": "stdout",
     "output_type": "stream",
     "text": [
      "Converted to PDF: C:\\Users\\21517\\Documents\\2025spring\\人工智能与Python程序设计\\HW2\\result\\pdf_files\\University_of_California,_Los_Angeles_(UCLA)_MA_in_Economics.pdf\n"
     ]
    },
    {
     "data": {
      "application/vnd.jupyter.widget-view+json": {
       "model_id": "17debd5ce71d48f984f6445a7c468a09",
       "version_major": 2,
       "version_minor": 0
      },
      "text/plain": [
       "  0%|          | 0/1 [00:00<?, ?it/s]"
      ]
     },
     "metadata": {},
     "output_type": "display_data"
    },
    {
     "name": "stdout",
     "output_type": "stream",
     "text": [
      "Converted to PDF: C:\\Users\\21517\\Documents\\2025spring\\人工智能与Python程序设计\\HW2\\result\\pdf_files\\University_of_California,_Los_Angeles_(UCLA)_MA_in_Statistics.pdf\n"
     ]
    },
    {
     "data": {
      "application/vnd.jupyter.widget-view+json": {
       "model_id": "88c0f11cb79a47e8927ba6490126ec09",
       "version_major": 2,
       "version_minor": 0
      },
      "text/plain": [
       "  0%|          | 0/1 [00:00<?, ?it/s]"
      ]
     },
     "metadata": {},
     "output_type": "display_data"
    },
    {
     "name": "stdout",
     "output_type": "stream",
     "text": [
      "Converted to PDF: C:\\Users\\21517\\Documents\\2025spring\\人工智能与Python程序设计\\HW2\\result\\pdf_files\\University_of_California,_Los_Angeles_(UCLA)_PhD_in_Management.pdf\n"
     ]
    },
    {
     "data": {
      "application/vnd.jupyter.widget-view+json": {
       "model_id": "4331aac3dc36441a87c7cd8ffbcee9a2",
       "version_major": 2,
       "version_minor": 0
      },
      "text/plain": [
       "  0%|          | 0/1 [00:00<?, ?it/s]"
      ]
     },
     "metadata": {},
     "output_type": "display_data"
    },
    {
     "name": "stdout",
     "output_type": "stream",
     "text": [
      "Converted to PDF: C:\\Users\\21517\\Documents\\2025spring\\人工智能与Python程序设计\\HW2\\result\\pdf_files\\University_of_California,_Santa_Barbara_(UCSB)_MA_in_Economics.pdf\n"
     ]
    },
    {
     "data": {
      "application/vnd.jupyter.widget-view+json": {
       "model_id": "c64874ab09614ae2abe5e64c6fa6f732",
       "version_major": 2,
       "version_minor": 0
      },
      "text/plain": [
       "  0%|          | 0/1 [00:00<?, ?it/s]"
      ]
     },
     "metadata": {},
     "output_type": "display_data"
    },
    {
     "name": "stdout",
     "output_type": "stream",
     "text": [
      "Converted to PDF: C:\\Users\\21517\\Documents\\2025spring\\人工智能与Python程序设计\\HW2\\result\\pdf_files\\University_of_California,_Santa_Barbara_(UCSB)_MA_in_Statistics.pdf\n"
     ]
    },
    {
     "data": {
      "application/vnd.jupyter.widget-view+json": {
       "model_id": "7c1dc1100ab34d16a9ff478a952f3275",
       "version_major": 2,
       "version_minor": 0
      },
      "text/plain": [
       "  0%|          | 0/1 [00:00<?, ?it/s]"
      ]
     },
     "metadata": {},
     "output_type": "display_data"
    },
    {
     "name": "stdout",
     "output_type": "stream",
     "text": [
      "Converted to PDF: C:\\Users\\21517\\Documents\\2025spring\\人工智能与Python程序设计\\HW2\\result\\pdf_files\\University_of_California,_Santa_Barbara_(UCSB)_PhD_in_Management.pdf\n"
     ]
    },
    {
     "data": {
      "application/vnd.jupyter.widget-view+json": {
       "model_id": "e06e6b8caba74aaeaffa48ecbd85f01a",
       "version_major": 2,
       "version_minor": 0
      },
      "text/plain": [
       "  0%|          | 0/1 [00:00<?, ?it/s]"
      ]
     },
     "metadata": {},
     "output_type": "display_data"
    },
    {
     "name": "stdout",
     "output_type": "stream",
     "text": [
      "Converted to PDF: C:\\Users\\21517\\Documents\\2025spring\\人工智能与Python程序设计\\HW2\\result\\pdf_files\\University_of_California,_San_Diego_(UCSD)_MA_in_Economics.pdf\n"
     ]
    },
    {
     "data": {
      "application/vnd.jupyter.widget-view+json": {
       "model_id": "b51ba6274fb044d28cef2f245bad8b04",
       "version_major": 2,
       "version_minor": 0
      },
      "text/plain": [
       "  0%|          | 0/1 [00:00<?, ?it/s]"
      ]
     },
     "metadata": {},
     "output_type": "display_data"
    },
    {
     "name": "stdout",
     "output_type": "stream",
     "text": [
      "Converted to PDF: C:\\Users\\21517\\Documents\\2025spring\\人工智能与Python程序设计\\HW2\\result\\pdf_files\\University_of_California,_San_Diego_(UCSD)_MA_in_Statistics.pdf\n"
     ]
    },
    {
     "data": {
      "application/vnd.jupyter.widget-view+json": {
       "model_id": "0f3600060e814e4ea50aaac8ecd372cd",
       "version_major": 2,
       "version_minor": 0
      },
      "text/plain": [
       "  0%|          | 0/1 [00:00<?, ?it/s]"
      ]
     },
     "metadata": {},
     "output_type": "display_data"
    },
    {
     "name": "stdout",
     "output_type": "stream",
     "text": [
      "Converted to PDF: C:\\Users\\21517\\Documents\\2025spring\\人工智能与Python程序设计\\HW2\\result\\pdf_files\\University_of_California,_San_Diego_(UCSD)_PhD_in_Data_Science.pdf\n"
     ]
    },
    {
     "data": {
      "application/vnd.jupyter.widget-view+json": {
       "model_id": "869c32f28f4149b1bac01fe6206d1ba3",
       "version_major": 2,
       "version_minor": 0
      },
      "text/plain": [
       "  0%|          | 0/1 [00:00<?, ?it/s]"
      ]
     },
     "metadata": {},
     "output_type": "display_data"
    },
    {
     "name": "stdout",
     "output_type": "stream",
     "text": [
      "Converted to PDF: C:\\Users\\21517\\Documents\\2025spring\\人工智能与Python程序设计\\HW2\\result\\pdf_files\\University_of_Cambridge_MA_in_Economics.pdf\n"
     ]
    },
    {
     "data": {
      "application/vnd.jupyter.widget-view+json": {
       "model_id": "fb1ba6e87c064149a2ae5a676a02ad79",
       "version_major": 2,
       "version_minor": 0
      },
      "text/plain": [
       "  0%|          | 0/1 [00:00<?, ?it/s]"
      ]
     },
     "metadata": {},
     "output_type": "display_data"
    },
    {
     "name": "stdout",
     "output_type": "stream",
     "text": [
      "Converted to PDF: C:\\Users\\21517\\Documents\\2025spring\\人工智能与Python程序设计\\HW2\\result\\pdf_files\\University_of_Cambridge_MA_in_Finance.pdf\n"
     ]
    },
    {
     "data": {
      "application/vnd.jupyter.widget-view+json": {
       "model_id": "4912c0ddde4144e980886e0bd2d89ceb",
       "version_major": 2,
       "version_minor": 0
      },
      "text/plain": [
       "  0%|          | 0/1 [00:00<?, ?it/s]"
      ]
     },
     "metadata": {},
     "output_type": "display_data"
    },
    {
     "name": "stdout",
     "output_type": "stream",
     "text": [
      "Converted to PDF: C:\\Users\\21517\\Documents\\2025spring\\人工智能与Python程序设计\\HW2\\result\\pdf_files\\University_of_Cambridge_PhD_in_Statistics.pdf\n"
     ]
    },
    {
     "data": {
      "application/vnd.jupyter.widget-view+json": {
       "model_id": "e00be3afb94344f6813bff6850641ec2",
       "version_major": 2,
       "version_minor": 0
      },
      "text/plain": [
       "  0%|          | 0/1 [00:00<?, ?it/s]"
      ]
     },
     "metadata": {},
     "output_type": "display_data"
    },
    {
     "name": "stdout",
     "output_type": "stream",
     "text": [
      "Converted to PDF: C:\\Users\\21517\\Documents\\2025spring\\人工智能与Python程序设计\\HW2\\result\\pdf_files\\University_of_Chicago_MA_in_Economics.pdf\n"
     ]
    },
    {
     "data": {
      "application/vnd.jupyter.widget-view+json": {
       "model_id": "1f8ded98c23145afa9e8193d957ef1f7",
       "version_major": 2,
       "version_minor": 0
      },
      "text/plain": [
       "  0%|          | 0/1 [00:00<?, ?it/s]"
      ]
     },
     "metadata": {},
     "output_type": "display_data"
    },
    {
     "name": "stdout",
     "output_type": "stream",
     "text": [
      "Converted to PDF: C:\\Users\\21517\\Documents\\2025spring\\人工智能与Python程序设计\\HW2\\result\\pdf_files\\University_of_Chicago_MA_in_Finance.pdf\n"
     ]
    },
    {
     "data": {
      "application/vnd.jupyter.widget-view+json": {
       "model_id": "d2fb8f585ed14f3ab57949b6e4e1e150",
       "version_major": 2,
       "version_minor": 0
      },
      "text/plain": [
       "  0%|          | 0/1 [00:00<?, ?it/s]"
      ]
     },
     "metadata": {},
     "output_type": "display_data"
    },
    {
     "name": "stdout",
     "output_type": "stream",
     "text": [
      "Converted to PDF: C:\\Users\\21517\\Documents\\2025spring\\人工智能与Python程序设计\\HW2\\result\\pdf_files\\University_of_Chicago_PhD_in_Data_Science.pdf\n"
     ]
    },
    {
     "data": {
      "application/vnd.jupyter.widget-view+json": {
       "model_id": "327f164f9d314200957c3cd2f6b820ff",
       "version_major": 2,
       "version_minor": 0
      },
      "text/plain": [
       "  0%|          | 0/1 [00:00<?, ?it/s]"
      ]
     },
     "metadata": {},
     "output_type": "display_data"
    },
    {
     "name": "stdout",
     "output_type": "stream",
     "text": [
      "Converted to PDF: C:\\Users\\21517\\Documents\\2025spring\\人工智能与Python程序设计\\HW2\\result\\pdf_files\\University_of_Hong_Kong_MA_in_Economics.pdf\n"
     ]
    },
    {
     "data": {
      "application/vnd.jupyter.widget-view+json": {
       "model_id": "9be8c1dcfda947f4a738bf41b8208f21",
       "version_major": 2,
       "version_minor": 0
      },
      "text/plain": [
       "  0%|          | 0/1 [00:00<?, ?it/s]"
      ]
     },
     "metadata": {},
     "output_type": "display_data"
    },
    {
     "name": "stdout",
     "output_type": "stream",
     "text": [
      "Converted to PDF: C:\\Users\\21517\\Documents\\2025spring\\人工智能与Python程序设计\\HW2\\result\\pdf_files\\University_of_Hong_Kong_MA_in_Statistics.pdf\n"
     ]
    },
    {
     "data": {
      "application/vnd.jupyter.widget-view+json": {
       "model_id": "2dea466a6d48476dbd0052acf3649034",
       "version_major": 2,
       "version_minor": 0
      },
      "text/plain": [
       "  0%|          | 0/1 [00:00<?, ?it/s]"
      ]
     },
     "metadata": {},
     "output_type": "display_data"
    },
    {
     "name": "stdout",
     "output_type": "stream",
     "text": [
      "Converted to PDF: C:\\Users\\21517\\Documents\\2025spring\\人工智能与Python程序设计\\HW2\\result\\pdf_files\\University_of_Hong_Kong_PhD_in_Finance.pdf\n"
     ]
    },
    {
     "data": {
      "application/vnd.jupyter.widget-view+json": {
       "model_id": "bf0b24505a2943308c6741efd818f3b8",
       "version_major": 2,
       "version_minor": 0
      },
      "text/plain": [
       "  0%|          | 0/1 [00:00<?, ?it/s]"
      ]
     },
     "metadata": {},
     "output_type": "display_data"
    },
    {
     "name": "stdout",
     "output_type": "stream",
     "text": [
      "Converted to PDF: C:\\Users\\21517\\Documents\\2025spring\\人工智能与Python程序设计\\HW2\\result\\pdf_files\\University_of_Oxford_MA_in_Economics.pdf\n"
     ]
    },
    {
     "data": {
      "application/vnd.jupyter.widget-view+json": {
       "model_id": "3fa16be20799426cbd9c919f04bcdd58",
       "version_major": 2,
       "version_minor": 0
      },
      "text/plain": [
       "  0%|          | 0/1 [00:00<?, ?it/s]"
      ]
     },
     "metadata": {},
     "output_type": "display_data"
    },
    {
     "name": "stdout",
     "output_type": "stream",
     "text": [
      "Converted to PDF: C:\\Users\\21517\\Documents\\2025spring\\人工智能与Python程序设计\\HW2\\result\\pdf_files\\University_of_Oxford_PhD_in_Management.pdf\n"
     ]
    },
    {
     "data": {
      "application/vnd.jupyter.widget-view+json": {
       "model_id": "62cb6bdf74464012a6ddb9b6d40520bc",
       "version_major": 2,
       "version_minor": 0
      },
      "text/plain": [
       "  0%|          | 0/1 [00:00<?, ?it/s]"
      ]
     },
     "metadata": {},
     "output_type": "display_data"
    },
    {
     "name": "stdout",
     "output_type": "stream",
     "text": [
      "Converted to PDF: C:\\Users\\21517\\Documents\\2025spring\\人工智能与Python程序设计\\HW2\\result\\pdf_files\\University_of_Oxford_PhD_in_Statistics.pdf\n"
     ]
    },
    {
     "data": {
      "application/vnd.jupyter.widget-view+json": {
       "model_id": "63462e08e8434250ab48c5aff84a5914",
       "version_major": 2,
       "version_minor": 0
      },
      "text/plain": [
       "  0%|          | 0/1 [00:00<?, ?it/s]"
      ]
     },
     "metadata": {},
     "output_type": "display_data"
    },
    {
     "name": "stdout",
     "output_type": "stream",
     "text": [
      "Converted to PDF: C:\\Users\\21517\\Documents\\2025spring\\人工智能与Python程序设计\\HW2\\result\\pdf_files\\University_of_Pennsylvania_MA_in_Economics.pdf\n"
     ]
    },
    {
     "data": {
      "application/vnd.jupyter.widget-view+json": {
       "model_id": "f4c7d56348704b0cb1d31164c4ddbd4d",
       "version_major": 2,
       "version_minor": 0
      },
      "text/plain": [
       "  0%|          | 0/1 [00:00<?, ?it/s]"
      ]
     },
     "metadata": {},
     "output_type": "display_data"
    },
    {
     "name": "stdout",
     "output_type": "stream",
     "text": [
      "Converted to PDF: C:\\Users\\21517\\Documents\\2025spring\\人工智能与Python程序设计\\HW2\\result\\pdf_files\\University_of_Pennsylvania_MA_in_Statistics.pdf\n"
     ]
    },
    {
     "data": {
      "application/vnd.jupyter.widget-view+json": {
       "model_id": "f0460611e4574e0690d1e7cfde3f55d6",
       "version_major": 2,
       "version_minor": 0
      },
      "text/plain": [
       "  0%|          | 0/1 [00:00<?, ?it/s]"
      ]
     },
     "metadata": {},
     "output_type": "display_data"
    },
    {
     "name": "stdout",
     "output_type": "stream",
     "text": [
      "Converted to PDF: C:\\Users\\21517\\Documents\\2025spring\\人工智能与Python程序设计\\HW2\\result\\pdf_files\\University_of_Pennsylvania_PhD_in_Data_Science.pdf\n"
     ]
    },
    {
     "data": {
      "application/vnd.jupyter.widget-view+json": {
       "model_id": "82cc0c194f0e4cc9b76af6a62f395c72",
       "version_major": 2,
       "version_minor": 0
      },
      "text/plain": [
       "  0%|          | 0/1 [00:00<?, ?it/s]"
      ]
     },
     "metadata": {},
     "output_type": "display_data"
    },
    {
     "name": "stdout",
     "output_type": "stream",
     "text": [
      "Converted to PDF: C:\\Users\\21517\\Documents\\2025spring\\人工智能与Python程序设计\\HW2\\result\\pdf_files\\University_of_Tokyo_MA_in_Economics.pdf\n"
     ]
    },
    {
     "data": {
      "application/vnd.jupyter.widget-view+json": {
       "model_id": "02eb3dba793b49c6b008c720431e6033",
       "version_major": 2,
       "version_minor": 0
      },
      "text/plain": [
       "  0%|          | 0/1 [00:00<?, ?it/s]"
      ]
     },
     "metadata": {},
     "output_type": "display_data"
    },
    {
     "name": "stdout",
     "output_type": "stream",
     "text": [
      "Converted to PDF: C:\\Users\\21517\\Documents\\2025spring\\人工智能与Python程序设计\\HW2\\result\\pdf_files\\University_of_Tokyo_MA_in_Statistics.pdf\n"
     ]
    },
    {
     "data": {
      "application/vnd.jupyter.widget-view+json": {
       "model_id": "606991d2481442d688783474df6e665e",
       "version_major": 2,
       "version_minor": 0
      },
      "text/plain": [
       "  0%|          | 0/1 [00:00<?, ?it/s]"
      ]
     },
     "metadata": {},
     "output_type": "display_data"
    },
    {
     "name": "stdout",
     "output_type": "stream",
     "text": [
      "Converted to PDF: C:\\Users\\21517\\Documents\\2025spring\\人工智能与Python程序设计\\HW2\\result\\pdf_files\\University_of_Tokyo_PhD_in_Data_Science.pdf\n"
     ]
    },
    {
     "data": {
      "application/vnd.jupyter.widget-view+json": {
       "model_id": "d125b03e88934dd7b941baab117ab0a5",
       "version_major": 2,
       "version_minor": 0
      },
      "text/plain": [
       "  0%|          | 0/1 [00:00<?, ?it/s]"
      ]
     },
     "metadata": {},
     "output_type": "display_data"
    },
    {
     "name": "stdout",
     "output_type": "stream",
     "text": [
      "Converted to PDF: C:\\Users\\21517\\Documents\\2025spring\\人工智能与Python程序设计\\HW2\\result\\pdf_files\\University_of_Toronto_MA_in_Economics.pdf\n"
     ]
    },
    {
     "data": {
      "application/vnd.jupyter.widget-view+json": {
       "model_id": "8e6197b333a744beb6caced022ff537f",
       "version_major": 2,
       "version_minor": 0
      },
      "text/plain": [
       "  0%|          | 0/1 [00:00<?, ?it/s]"
      ]
     },
     "metadata": {},
     "output_type": "display_data"
    },
    {
     "name": "stdout",
     "output_type": "stream",
     "text": [
      "Converted to PDF: C:\\Users\\21517\\Documents\\2025spring\\人工智能与Python程序设计\\HW2\\result\\pdf_files\\University_of_Toronto_MA_in_Statistics.pdf\n"
     ]
    },
    {
     "data": {
      "application/vnd.jupyter.widget-view+json": {
       "model_id": "02ccbd6a07d8493b938e120eac77ff5c",
       "version_major": 2,
       "version_minor": 0
      },
      "text/plain": [
       "  0%|          | 0/1 [00:00<?, ?it/s]"
      ]
     },
     "metadata": {},
     "output_type": "display_data"
    },
    {
     "name": "stdout",
     "output_type": "stream",
     "text": [
      "Converted to PDF: C:\\Users\\21517\\Documents\\2025spring\\人工智能与Python程序设计\\HW2\\result\\pdf_files\\University_of_Toronto_PhD_in_Finance.pdf\n"
     ]
    },
    {
     "data": {
      "application/vnd.jupyter.widget-view+json": {
       "model_id": "5a51c06532064260bf8d3a8dfc42940a",
       "version_major": 2,
       "version_minor": 0
      },
      "text/plain": [
       "  0%|          | 0/1 [00:00<?, ?it/s]"
      ]
     },
     "metadata": {},
     "output_type": "display_data"
    },
    {
     "name": "stdout",
     "output_type": "stream",
     "text": [
      "Converted to PDF: C:\\Users\\21517\\Documents\\2025spring\\人工智能与Python程序设计\\HW2\\result\\pdf_files\\University_of_Wisconsin-Madison_MA_in_Economics.pdf\n"
     ]
    },
    {
     "data": {
      "application/vnd.jupyter.widget-view+json": {
       "model_id": "714a27bff9a543ce805d8cf04a70337e",
       "version_major": 2,
       "version_minor": 0
      },
      "text/plain": [
       "  0%|          | 0/1 [00:00<?, ?it/s]"
      ]
     },
     "metadata": {},
     "output_type": "display_data"
    },
    {
     "name": "stdout",
     "output_type": "stream",
     "text": [
      "Converted to PDF: C:\\Users\\21517\\Documents\\2025spring\\人工智能与Python程序设计\\HW2\\result\\pdf_files\\University_of_Wisconsin-Madison_MA_in_Statistics.pdf\n"
     ]
    },
    {
     "data": {
      "application/vnd.jupyter.widget-view+json": {
       "model_id": "78ffc4cc2547456c8e74560978afeffd",
       "version_major": 2,
       "version_minor": 0
      },
      "text/plain": [
       "  0%|          | 0/1 [00:00<?, ?it/s]"
      ]
     },
     "metadata": {},
     "output_type": "display_data"
    },
    {
     "name": "stdout",
     "output_type": "stream",
     "text": [
      "Converted to PDF: C:\\Users\\21517\\Documents\\2025spring\\人工智能与Python程序设计\\HW2\\result\\pdf_files\\University_of_Wisconsin-Madison_PhD_in_Finance.pdf\n"
     ]
    },
    {
     "data": {
      "application/vnd.jupyter.widget-view+json": {
       "model_id": "ef1f005188fd4368bcbe6823dea6dfa2",
       "version_major": 2,
       "version_minor": 0
      },
      "text/plain": [
       "  0%|          | 0/1 [00:00<?, ?it/s]"
      ]
     },
     "metadata": {},
     "output_type": "display_data"
    },
    {
     "name": "stdout",
     "output_type": "stream",
     "text": [
      "Converted to PDF: C:\\Users\\21517\\Documents\\2025spring\\人工智能与Python程序设计\\HW2\\result\\pdf_files\\Università_Commerciale_Luigi_Bocconi_MA_in_Economics.pdf\n"
     ]
    },
    {
     "data": {
      "application/vnd.jupyter.widget-view+json": {
       "model_id": "1ca8d656cbbb42c99e1924e969bf08ce",
       "version_major": 2,
       "version_minor": 0
      },
      "text/plain": [
       "  0%|          | 0/1 [00:00<?, ?it/s]"
      ]
     },
     "metadata": {},
     "output_type": "display_data"
    },
    {
     "name": "stdout",
     "output_type": "stream",
     "text": [
      "Converted to PDF: C:\\Users\\21517\\Documents\\2025spring\\人工智能与Python程序设计\\HW2\\result\\pdf_files\\Università_Commerciale_Luigi_Bocconi_PhD_in_Finance.pdf\n"
     ]
    },
    {
     "data": {
      "application/vnd.jupyter.widget-view+json": {
       "model_id": "e3a4380dd06e40e89f8a6abf46c1f680",
       "version_major": 2,
       "version_minor": 0
      },
      "text/plain": [
       "  0%|          | 0/1 [00:00<?, ?it/s]"
      ]
     },
     "metadata": {},
     "output_type": "display_data"
    },
    {
     "name": "stdout",
     "output_type": "stream",
     "text": [
      "Converted to PDF: C:\\Users\\21517\\Documents\\2025spring\\人工智能与Python程序设计\\HW2\\result\\pdf_files\\Università_Commerciale_Luigi_Bocconi_PhD_in_Management.pdf\n"
     ]
    },
    {
     "data": {
      "application/vnd.jupyter.widget-view+json": {
       "model_id": "a805bb0fb620420dbc87288606eb0ef9",
       "version_major": 2,
       "version_minor": 0
      },
      "text/plain": [
       "  0%|          | 0/1 [00:00<?, ?it/s]"
      ]
     },
     "metadata": {},
     "output_type": "display_data"
    },
    {
     "name": "stdout",
     "output_type": "stream",
     "text": [
      "Converted to PDF: C:\\Users\\21517\\Documents\\2025spring\\人工智能与Python程序设计\\HW2\\result\\pdf_files\\Yale_University_MA_in_Economics.pdf\n"
     ]
    },
    {
     "data": {
      "application/vnd.jupyter.widget-view+json": {
       "model_id": "fdd8b922ae264aa48864226a9fd97ba0",
       "version_major": 2,
       "version_minor": 0
      },
      "text/plain": [
       "  0%|          | 0/1 [00:00<?, ?it/s]"
      ]
     },
     "metadata": {},
     "output_type": "display_data"
    },
    {
     "name": "stdout",
     "output_type": "stream",
     "text": [
      "Converted to PDF: C:\\Users\\21517\\Documents\\2025spring\\人工智能与Python程序设计\\HW2\\result\\pdf_files\\Yale_University_PhD_in_Management.pdf\n"
     ]
    },
    {
     "data": {
      "application/vnd.jupyter.widget-view+json": {
       "model_id": "30645d2983f24feeb1b83f35b2c27c10",
       "version_major": 2,
       "version_minor": 0
      },
      "text/plain": [
       "  0%|          | 0/1 [00:00<?, ?it/s]"
      ]
     },
     "metadata": {},
     "output_type": "display_data"
    },
    {
     "name": "stdout",
     "output_type": "stream",
     "text": [
      "Converted to PDF: C:\\Users\\21517\\Documents\\2025spring\\人工智能与Python程序设计\\HW2\\result\\pdf_files\\Yale_University_PhD_in_Statistics.pdf\n"
     ]
    }
   ],
   "source": [
    "# 主函数\n",
    "excel_file = os.path.join(DATA_DIR, \"application_list.xlsx\")\n",
    "universities = load_application_list(excel_file)\n",
    "\n",
    "# 生成 Word 文件\n",
    "template_file = os.path.join(DATA_DIR, \"application_template.docx\")\n",
    "generate_word_files(template_file, universities)\n",
    "\n",
    "# 转换为 PDF\n",
    "convert_to_pdf()"
   ]
  }
 ],
 "metadata": {
  "kernelspec": {
   "display_name": "Python 3",
   "language": "python",
   "name": "python3"
  },
  "language_info": {
   "codemirror_mode": {
    "name": "ipython",
    "version": 3
   },
   "file_extension": ".py",
   "mimetype": "text/x-python",
   "name": "python",
   "nbconvert_exporter": "python",
   "pygments_lexer": "ipython3",
   "version": "3.10.5"
  }
 },
 "nbformat": 4,
 "nbformat_minor": 5
}
